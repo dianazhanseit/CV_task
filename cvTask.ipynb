{
  "nbformat": 4,
  "nbformat_minor": 0,
  "metadata": {
    "colab": {
      "name": "cvTask.ipynb",
      "version": "0.3.2",
      "provenance": []
    },
    "kernelspec": {
      "name": "python3",
      "display_name": "Python 3"
    }
  },
  "cells": [
    {
      "cell_type": "code",
      "metadata": {
        "id": "PqjGwag2RFU9",
        "colab_type": "code",
        "colab": {}
      },
      "source": [
        "# Computer Vision Internship Program task\n",
        "import tensorflow as tf\n",
        "import keras\n",
        "from keras.datasets import mnist\n",
        "import matplotlib.pyplot as plt\n",
        "from PIL import Image\n",
        "import numpy\n",
        "from keras.models import Sequential\n",
        "from keras.layers import Dense\n",
        "from keras.layers import Dropout\n",
        "from keras.utils import np_utils\n",
        "from keras.layers import Flatten\n",
        "from keras.layers.convolutional import Conv2D\n",
        "from keras.layers.convolutional import MaxPooling2D\n",
        "from keras.preprocessing.image import ImageDataGenerator\n",
        "from keras.preprocessing import image\n",
        "from keras import backend as K\n",
        "K.set_image_dim_ordering('th')"
      ],
      "execution_count": 0,
      "outputs": []
    },
    {
      "cell_type": "code",
      "metadata": {
        "id": "U6ISZQ4NhktZ",
        "colab_type": "code",
        "colab": {}
      },
      "source": [
        "# 1.Download and read the data\n",
        "# download the mnist dataset\n",
        "# x - for image, y - for label\n",
        "(X_train, y_train), (X_test, y_test) = mnist.load_data()\n",
        "# read\n",
        "# image_index = 641\n",
        "# print(y_train[image_index])\n",
        "# # plt.imshow(x_train[image_index], cmap='Greys')\n",
        "# create a grid of 3x3 images\n",
        "for i in range(0, 9):\n",
        "\tpyplot.subplot(330 + 1 + i)\n",
        "\tpyplot.imshow(X_train[i], cmap=pyplot.get_cmap('gray'))\n",
        "# show the plot\n",
        "pyplot.show()\n",
        "# pyplot.imshow(x_train[666], cmap=pyplot.get_cmap('gray'))"
      ],
      "execution_count": 0,
      "outputs": []
    },
    {
      "cell_type": "code",
      "metadata": {
        "id": "2BcNyFWIWR4Q",
        "colab_type": "code",
        "colab": {}
      },
      "source": [
        "# normalize inputs from 0-255 to 0-1\n",
        "X_train = X_train / 255\n",
        "X_test = X_test / 255\n",
        "# one hot encode outputs\n",
        "y_train = np_utils.to_categorical(y_train)\n",
        "y_test = np_utils.to_categorical(y_test)\n",
        "num_classes = y_test.shape[1]"
      ],
      "execution_count": 0,
      "outputs": []
    },
    {
      "cell_type": "code",
      "metadata": {
        "id": "vrZv0B9APmUm",
        "colab_type": "code",
        "colab": {}
      },
      "source": [
        "# # Flipping images with Numpy\n",
        "# img = x_train[888]\n",
        "# img = np.array(img)\n",
        "# plt.imshow(img, cmap = 'gray')\n",
        "# plt.show()\n",
        "# flipped_img = np.fliplr(img)\n",
        "# plt.imshow(flipped_img, cmap = 'gray')\n",
        "# plt.show()"
      ],
      "execution_count": 0,
      "outputs": []
    },
    {
      "cell_type": "code",
      "metadata": {
        "id": "Y37eFSFX-xuK",
        "colab_type": "code",
        "colab": {}
      },
      "source": [
        "# 2.Augmentation\n",
        "def augmentation(X_train, X_test):\n",
        "  # 2.1 Random rotation\n",
        "  # reshape to be [samples][pixels][width][height]\n",
        "  X_train = X_train.reshape(X_train.shape[0], 1, 28, 28)\n",
        "  X_test = X_test.reshape(X_test.shape[0], 1, 28, 28)\n",
        "  # convert from int to float\n",
        "  X_train = X_train.astype('float32')\n",
        "  X_test = X_test.astype('float32')\n",
        "  # define data preparation\n",
        "  datagen = ImageDataGenerator(rotation_range=90)\n",
        "  # fit parameters from data\n",
        "  datagen.fit(X_train)\n",
        "  # configure batch size and retrieve one batch of images\n",
        "  for i in range(0, 9):\n",
        "    pyplot.subplot(330 + 1 + i)\n",
        "    pyplot.imshow(x_train[i], cmap = pyplot.get_cmap('gray'))\n",
        "  pyplot.show()\n",
        "  for X_batch, y_batch in datagen.flow(X_train, y_train, batch_size=9):\n",
        "    # create a grid of 3x3 images\n",
        "    print(\"Rotated image\")\n",
        "    for i in range(0, 9):\n",
        "      pyplot.subplot(330 + 1 + i)\n",
        "      pyplot.imshow(X_batch[i].reshape(28, 28), cmap=pyplot.get_cmap('gray'))\n",
        "    # show the plot\n",
        "    pyplot.show()\n",
        "    break\n",
        "  \n",
        "  # 2.2 Random shift\n",
        "  # reshape to be [samples][pixels][width][height]\n",
        "  X_train = X_train.reshape(X_train.shape[0], 1, 28, 28)\n",
        "  X_test = X_test.reshape(X_test.shape[0], 1, 28, 28)\n",
        "  # convert from int to float\n",
        "  X_train = X_train.astype('float32')\n",
        "  X_test = X_test.astype('float32')\n",
        "  # define data preparation\n",
        "  shift = 0.2\n",
        "  datagen = ImageDataGenerator(width_shift_range=shift, height_shift_range=shift)\n",
        "  # fit parameters from data\n",
        "  datagen.fit(X_train)\n",
        "  # configure batch size and retrieve one batch of images\n",
        "  print(\"Shifted image\")\n",
        "  for X_batch, y_batch in datagen.flow(X_train, y_train, batch_size=9):\n",
        "    # create a grid of 3x3 images\n",
        "    for i in range(0, 9):\n",
        "      pyplot.subplot(330 + 1 + i)\n",
        "      pyplot.imshow(X_batch[i].reshape(28, 28), cmap=pyplot.get_cmap('gray'))\n",
        "    # show the plot\n",
        "    pyplot.show()\n",
        "    break\n",
        "    \n",
        "  # 2.3 Random Flips\n",
        "  # define data preparation\n",
        "  datagen = ImageDataGenerator(horizontal_flip=True, vertical_flip=True)\n",
        "  # fit parameters from data\n",
        "  datagen.fit(X_train)\n",
        "  # configure batch size and retrieve one batch of images\n",
        "  print(\"Flipped image\")\n",
        "  for X_batch, y_batch in datagen.flow(X_train, y_train, batch_size=9):\n",
        "    # create a grid of 3x3 images\n",
        "    for i in range(0, 9):\n",
        "      pyplot.subplot(330 + 1 + i)\n",
        "      pyplot.imshow(X_batch[i].reshape(28, 28), cmap=pyplot.get_cmap('gray'))\n",
        "    # show the plot\n",
        "    pyplot.show()\n",
        "    break\n",
        "augmentation(x_train, x_test)\n"
      ],
      "execution_count": 0,
      "outputs": []
    },
    {
      "cell_type": "code",
      "metadata": {
        "id": "LrjqbLHgMzG1",
        "colab_type": "code",
        "colab": {}
      },
      "source": [
        "# Save augmented images to file\n",
        "import os\n",
        "# reshape to be [samples][pixels][width][height]\n",
        "X_train = X_train.reshape(X_train.shape[0], 1, 28, 28)\n",
        "X_test = X_test.reshape(X_test.shape[0], 1, 28, 28)\n",
        "# convert from int to float\n",
        "X_train = X_train.astype('float32')\n",
        "X_test = X_test.astype('float32')\n",
        "# define data preparation\n",
        "datagen = ImageDataGenerator()\n",
        "# fit parameters from data\n",
        "datagen.fit(X_train)\n",
        "# configure batch size and retrieve one batch of images\n",
        "os.makedirs('images4')\n",
        "for X_batch, y_batch in datagen.flow(X_train, y_train, batch_size=9, save_to_dir='images1', save_prefix='aug', save_format='png'):\n",
        "\t# create a grid of 3x3 images\n",
        "\tfor i in range(0, 9):\n",
        "\t\tpyplot.subplot(330 + 1 + i)\n",
        "\t\tpyplot.imshow(X_batch[i].reshape(28, 28), cmap=pyplot.get_cmap('gray'))\n",
        "\t# show the plot\n",
        "\tpyplot.show()\n",
        "\tbreak"
      ],
      "execution_count": 0,
      "outputs": []
    },
    {
      "cell_type": "code",
      "metadata": {
        "id": "XZxuZ6rIOGC6",
        "colab_type": "code",
        "colab": {}
      },
      "source": [
        "# 3.Neural network\n",
        "def baseline_model():\n",
        "\t# create model\n",
        "\tmodel = Sequential()\n",
        "\tmodel.add(Conv2D(32, (5, 5), input_shape=(1, 28, 28), activation='relu'))\n",
        "\tmodel.add(MaxPooling2D(pool_size=(2, 2)))\n",
        "\tmodel.add(Dropout(0.2))\n",
        "\tmodel.add(Flatten())\n",
        "\tmodel.add(Dense(128, activation='relu'))\n",
        "\tmodel.add(Dense(num_classes, activation='softmax'))\n",
        "\t# Compile model\n",
        "\tmodel.compile(loss='categorical_crossentropy', optimizer='adam', metrics=['accuracy'])\n",
        "\treturn model"
      ],
      "execution_count": 0,
      "outputs": []
    },
    {
      "cell_type": "code",
      "metadata": {
        "id": "QSY-kt3ZT5bx",
        "colab_type": "code",
        "colab": {}
      },
      "source": [
        "# 4. Implement training\n",
        "model = baseline_model()\n",
        "# Fit the model\n",
        "history = model.fit(X_train, y_train, validation_data=(X_test, y_test), epochs=10, batch_size=200, verbose=2)\n",
        "# Final evaluation of the model\n",
        "scores = model.evaluate(X_test, y_test, verbose=0)\n",
        "print(\"CNN Error: %.2f%%\" % (100-scores[1]*100))"
      ],
      "execution_count": 0,
      "outputs": []
    },
    {
      "cell_type": "code",
      "metadata": {
        "id": "Lije9H37ZTnY",
        "colab_type": "code",
        "colab": {}
      },
      "source": [
        "# 5. Plot loss graph\n",
        "# list all data in history\n",
        "print(history.history.keys())\n",
        "# summarize history for loss\n",
        "plt.plot(history.history['loss'])\n",
        "plt.plot(history.history['val_loss'])\n",
        "plt.title('model loss')\n",
        "plt.ylabel('loss')\n",
        "plt.xlabel('epoch')\n",
        "plt.legend(['train', 'test'], loc='upper left')\n",
        "plt.show()"
      ],
      "execution_count": 0,
      "outputs": []
    },
    {
      "cell_type": "code",
      "metadata": {
        "id": "Efdt7rzriz-j",
        "colab_type": "code",
        "colab": {
          "base_uri": "https://localhost:8080/",
          "height": 34
        },
        "outputId": "71080739-a0e5-41dd-f62c-1103060ff2d9"
      },
      "source": [
        "# 6. Print Accuracy\n",
        "print(scores[1])"
      ],
      "execution_count": 110,
      "outputs": [
        {
          "output_type": "stream",
          "text": [
            "0.9908\n"
          ],
          "name": "stdout"
        }
      ]
    },
    {
      "cell_type": "code",
      "metadata": {
        "id": "yC85ZEDNeVJY",
        "colab_type": "code",
        "colab": {}
      },
      "source": [
        "img = image.load_img('0.png',target_size=(400,400,3))\n",
        "img = image.img_to_array(img)\n",
        "img = img/255"
      ],
      "execution_count": 0,
      "outputs": []
    },
    {
      "cell_type": "code",
      "metadata": {
        "id": "OhrnNG3EjTLM",
        "colab_type": "code",
        "colab": {}
      },
      "source": [
        "# 7. make a prediction for a new image.\n",
        "from keras.preprocessing.image import load_img\n",
        "from keras.preprocessing.image import img_to_array\n",
        "from keras.models import load_model\n",
        " \n",
        "# load and prepare the image\n",
        "def load_image(filename):\n",
        "\t# load the image\n",
        "\timg = load_img(filename, grayscale=True, target_size=(28, 28))\n",
        "\t# convert to array\n",
        "\timg = img_to_array(img)\n",
        "\t# reshape into a single sample with 1 channel\n",
        "\timg = img.reshape(1, 28, 28, 1)\n",
        "\t# prepare pixel data\n",
        "\timg = img.astype('float32')\n",
        "\timg = img / 255.0\n",
        "  \n",
        "\treturn img\n",
        " \n",
        "# load an image and predict the class\n",
        "def run_example():\n",
        "\t# load the image\n",
        "\timg = load_image('0.png')\n",
        "# \t# load model\n",
        "# \tmodel = load_model('final_model.h5')\n",
        "\t# predict the class\n",
        "\tdigit = model.predict_classes(img)\n",
        "\tprint(digit[0])\n",
        " \n",
        "# entry point, run the example\n",
        "run_example()"
      ],
      "execution_count": 0,
      "outputs": []
    }
  ]
}